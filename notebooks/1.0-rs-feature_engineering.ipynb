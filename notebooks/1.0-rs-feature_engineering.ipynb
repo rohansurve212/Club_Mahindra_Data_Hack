{
 "cells": [
  {
   "cell_type": "code",
   "execution_count": 1,
   "metadata": {},
   "outputs": [],
   "source": [
    "import sys\n",
    "sys.path.append('C:/Users/visha/Documents/GitHub/Club_Mahindra_Data_Hack/Club_Mahindra_Data_Hack')\n",
    "\n",
    "# Import standard libraries\n",
    "import numpy as np\n",
    "import pandas as pd\n",
    "import matplotlib.pyplot as plt\n",
    "import seaborn as sns\n",
    "%matplotlib inline\n",
    "color = sns.color_palette()\n",
    "\n",
    "# Import local libraries\n",
    "from src.data import make_dataset\n",
    "from src.features import build_features\n",
    "\n",
    "pd.options.display.max_columns = 100\n",
    "import warnings\n",
    "warnings.filterwarnings(\"ignore\")"
   ]
  },
  {
   "cell_type": "markdown",
   "metadata": {},
   "source": [
    "### Build Data to work on"
   ]
  },
  {
   "cell_type": "code",
   "execution_count": 2,
   "metadata": {},
   "outputs": [
    {
     "data": {
      "text/plain": [
       "(341424, 24)"
      ]
     },
     "execution_count": 2,
     "metadata": {},
     "output_type": "execute_result"
    }
   ],
   "source": [
    "# Load original data file\n",
    "raw_data = pd.read_csv(r'../data/raw/train_5CLrC8b/train.csv')\n",
    "raw_data.shape"
   ]
  },
  {
   "cell_type": "code",
   "execution_count": 3,
   "metadata": {},
   "outputs": [
    {
     "data": {
      "text/html": [
       "<div>\n",
       "<style scoped>\n",
       "    .dataframe tbody tr th:only-of-type {\n",
       "        vertical-align: middle;\n",
       "    }\n",
       "\n",
       "    .dataframe tbody tr th {\n",
       "        vertical-align: top;\n",
       "    }\n",
       "\n",
       "    .dataframe thead th {\n",
       "        text-align: right;\n",
       "    }\n",
       "</style>\n",
       "<table border=\"1\" class=\"dataframe\">\n",
       "  <thead>\n",
       "    <tr style=\"text-align: right;\">\n",
       "      <th></th>\n",
       "      <th>reservation_id</th>\n",
       "      <th>booking_date</th>\n",
       "      <th>checkin_date</th>\n",
       "      <th>checkout_date</th>\n",
       "      <th>channel_code</th>\n",
       "      <th>main_product_code</th>\n",
       "      <th>numberofadults</th>\n",
       "      <th>numberofchildren</th>\n",
       "      <th>persontravellingid</th>\n",
       "      <th>resort_region_code</th>\n",
       "      <th>resort_type_code</th>\n",
       "      <th>room_type_booked_code</th>\n",
       "      <th>roomnights</th>\n",
       "      <th>season_holidayed_code</th>\n",
       "      <th>state_code_residence</th>\n",
       "      <th>state_code_resort</th>\n",
       "      <th>total_pax</th>\n",
       "      <th>member_age_buckets</th>\n",
       "      <th>booking_type_code</th>\n",
       "      <th>memberid</th>\n",
       "      <th>cluster_code</th>\n",
       "      <th>reservationstatusid_code</th>\n",
       "      <th>resort_id</th>\n",
       "      <th>amount_spent_per_room_night_scaled</th>\n",
       "    </tr>\n",
       "  </thead>\n",
       "  <tbody>\n",
       "    <tr>\n",
       "      <th>0</th>\n",
       "      <td>07659f3758d8aee27f5a7e2887adeacb67021cb95ada1b...</td>\n",
       "      <td>05/04/18</td>\n",
       "      <td>05/04/18</td>\n",
       "      <td>06/04/18</td>\n",
       "      <td>3</td>\n",
       "      <td>1</td>\n",
       "      <td>2</td>\n",
       "      <td>0</td>\n",
       "      <td>46</td>\n",
       "      <td>3</td>\n",
       "      <td>3</td>\n",
       "      <td>3</td>\n",
       "      <td>1</td>\n",
       "      <td>2.0</td>\n",
       "      <td>7.0</td>\n",
       "      <td>3</td>\n",
       "      <td>3</td>\n",
       "      <td>F</td>\n",
       "      <td>1</td>\n",
       "      <td>3d1539e56495b6991f0a3ef5a61ca3d03ce4fff7380e9a...</td>\n",
       "      <td>F</td>\n",
       "      <td>C</td>\n",
       "      <td>4e07408562bedb8b60ce05c1decfe3ad16b72230967de0...</td>\n",
       "      <td>7.706428</td>\n",
       "    </tr>\n",
       "    <tr>\n",
       "      <th>1</th>\n",
       "      <td>03930f033646d073462b35d411616323597715ac4fc398...</td>\n",
       "      <td>23/01/15</td>\n",
       "      <td>11/04/15</td>\n",
       "      <td>16/04/15</td>\n",
       "      <td>1</td>\n",
       "      <td>1</td>\n",
       "      <td>2</td>\n",
       "      <td>0</td>\n",
       "      <td>46</td>\n",
       "      <td>3</td>\n",
       "      <td>3</td>\n",
       "      <td>4</td>\n",
       "      <td>5</td>\n",
       "      <td>2.0</td>\n",
       "      <td>7.0</td>\n",
       "      <td>5</td>\n",
       "      <td>2</td>\n",
       "      <td>F</td>\n",
       "      <td>1</td>\n",
       "      <td>3d1539e56495b6991f0a3ef5a61ca3d03ce4fff7380e9a...</td>\n",
       "      <td>F</td>\n",
       "      <td>A</td>\n",
       "      <td>39fa9ec190eee7b6f4dff1100d6343e10918d044c75eac...</td>\n",
       "      <td>6.662563</td>\n",
       "    </tr>\n",
       "    <tr>\n",
       "      <th>2</th>\n",
       "      <td>d145a32920e6587ad95bfe299d80c0affa268220535aaf...</td>\n",
       "      <td>28/01/15</td>\n",
       "      <td>01/02/15</td>\n",
       "      <td>05/02/15</td>\n",
       "      <td>1</td>\n",
       "      <td>1</td>\n",
       "      <td>2</td>\n",
       "      <td>0</td>\n",
       "      <td>47</td>\n",
       "      <td>1</td>\n",
       "      <td>5</td>\n",
       "      <td>4</td>\n",
       "      <td>4</td>\n",
       "      <td>2.0</td>\n",
       "      <td>7.0</td>\n",
       "      <td>1</td>\n",
       "      <td>2</td>\n",
       "      <td>F</td>\n",
       "      <td>1</td>\n",
       "      <td>3d1539e56495b6991f0a3ef5a61ca3d03ce4fff7380e9a...</td>\n",
       "      <td>E</td>\n",
       "      <td>A</td>\n",
       "      <td>535fa30d7e25dd8a49f1536779734ec8286108d115da50...</td>\n",
       "      <td>7.871602</td>\n",
       "    </tr>\n",
       "    <tr>\n",
       "      <th>3</th>\n",
       "      <td>cfd77f44811ed62f25a220b53324cdbafc662a4c9e5f04...</td>\n",
       "      <td>02/05/15</td>\n",
       "      <td>11/06/15</td>\n",
       "      <td>16/06/15</td>\n",
       "      <td>1</td>\n",
       "      <td>1</td>\n",
       "      <td>2</td>\n",
       "      <td>2</td>\n",
       "      <td>46</td>\n",
       "      <td>2</td>\n",
       "      <td>2</td>\n",
       "      <td>3</td>\n",
       "      <td>5</td>\n",
       "      <td>2.0</td>\n",
       "      <td>7.0</td>\n",
       "      <td>2</td>\n",
       "      <td>2</td>\n",
       "      <td>F</td>\n",
       "      <td>1</td>\n",
       "      <td>3d1539e56495b6991f0a3ef5a61ca3d03ce4fff7380e9a...</td>\n",
       "      <td>D</td>\n",
       "      <td>A</td>\n",
       "      <td>d4735e3a265e16eee03f59718b9b5d03019c07d8b6c51f...</td>\n",
       "      <td>5.344943</td>\n",
       "    </tr>\n",
       "    <tr>\n",
       "      <th>4</th>\n",
       "      <td>937cff9e4dcfc2459620153dfc8b9962ac22bea67dfb29...</td>\n",
       "      <td>02/09/15</td>\n",
       "      <td>14/12/15</td>\n",
       "      <td>19/12/15</td>\n",
       "      <td>1</td>\n",
       "      <td>1</td>\n",
       "      <td>2</td>\n",
       "      <td>0</td>\n",
       "      <td>46</td>\n",
       "      <td>2</td>\n",
       "      <td>2</td>\n",
       "      <td>4</td>\n",
       "      <td>5</td>\n",
       "      <td>2.0</td>\n",
       "      <td>7.0</td>\n",
       "      <td>2</td>\n",
       "      <td>2</td>\n",
       "      <td>F</td>\n",
       "      <td>1</td>\n",
       "      <td>3d1539e56495b6991f0a3ef5a61ca3d03ce4fff7380e9a...</td>\n",
       "      <td>D</td>\n",
       "      <td>A</td>\n",
       "      <td>d4735e3a265e16eee03f59718b9b5d03019c07d8b6c51f...</td>\n",
       "      <td>7.059346</td>\n",
       "    </tr>\n",
       "  </tbody>\n",
       "</table>\n",
       "</div>"
      ],
      "text/plain": [
       "                                      reservation_id booking_date  \\\n",
       "0  07659f3758d8aee27f5a7e2887adeacb67021cb95ada1b...     05/04/18   \n",
       "1  03930f033646d073462b35d411616323597715ac4fc398...     23/01/15   \n",
       "2  d145a32920e6587ad95bfe299d80c0affa268220535aaf...     28/01/15   \n",
       "3  cfd77f44811ed62f25a220b53324cdbafc662a4c9e5f04...     02/05/15   \n",
       "4  937cff9e4dcfc2459620153dfc8b9962ac22bea67dfb29...     02/09/15   \n",
       "\n",
       "  checkin_date checkout_date  channel_code  main_product_code  numberofadults  \\\n",
       "0     05/04/18      06/04/18             3                  1               2   \n",
       "1     11/04/15      16/04/15             1                  1               2   \n",
       "2     01/02/15      05/02/15             1                  1               2   \n",
       "3     11/06/15      16/06/15             1                  1               2   \n",
       "4     14/12/15      19/12/15             1                  1               2   \n",
       "\n",
       "   numberofchildren  persontravellingid  resort_region_code  resort_type_code  \\\n",
       "0                 0                  46                   3                 3   \n",
       "1                 0                  46                   3                 3   \n",
       "2                 0                  47                   1                 5   \n",
       "3                 2                  46                   2                 2   \n",
       "4                 0                  46                   2                 2   \n",
       "\n",
       "   room_type_booked_code  roomnights  season_holidayed_code  \\\n",
       "0                      3           1                    2.0   \n",
       "1                      4           5                    2.0   \n",
       "2                      4           4                    2.0   \n",
       "3                      3           5                    2.0   \n",
       "4                      4           5                    2.0   \n",
       "\n",
       "   state_code_residence  state_code_resort  total_pax member_age_buckets  \\\n",
       "0                   7.0                  3          3                  F   \n",
       "1                   7.0                  5          2                  F   \n",
       "2                   7.0                  1          2                  F   \n",
       "3                   7.0                  2          2                  F   \n",
       "4                   7.0                  2          2                  F   \n",
       "\n",
       "   booking_type_code                                           memberid  \\\n",
       "0                  1  3d1539e56495b6991f0a3ef5a61ca3d03ce4fff7380e9a...   \n",
       "1                  1  3d1539e56495b6991f0a3ef5a61ca3d03ce4fff7380e9a...   \n",
       "2                  1  3d1539e56495b6991f0a3ef5a61ca3d03ce4fff7380e9a...   \n",
       "3                  1  3d1539e56495b6991f0a3ef5a61ca3d03ce4fff7380e9a...   \n",
       "4                  1  3d1539e56495b6991f0a3ef5a61ca3d03ce4fff7380e9a...   \n",
       "\n",
       "  cluster_code reservationstatusid_code  \\\n",
       "0            F                        C   \n",
       "1            F                        A   \n",
       "2            E                        A   \n",
       "3            D                        A   \n",
       "4            D                        A   \n",
       "\n",
       "                                           resort_id  \\\n",
       "0  4e07408562bedb8b60ce05c1decfe3ad16b72230967de0...   \n",
       "1  39fa9ec190eee7b6f4dff1100d6343e10918d044c75eac...   \n",
       "2  535fa30d7e25dd8a49f1536779734ec8286108d115da50...   \n",
       "3  d4735e3a265e16eee03f59718b9b5d03019c07d8b6c51f...   \n",
       "4  d4735e3a265e16eee03f59718b9b5d03019c07d8b6c51f...   \n",
       "\n",
       "   amount_spent_per_room_night_scaled  \n",
       "0                            7.706428  \n",
       "1                            6.662563  \n",
       "2                            7.871602  \n",
       "3                            5.344943  \n",
       "4                            7.059346  "
      ]
     },
     "execution_count": 3,
     "metadata": {},
     "output_type": "execute_result"
    }
   ],
   "source": [
    "raw_data.head()"
   ]
  },
  {
   "cell_type": "code",
   "execution_count": 4,
   "metadata": {},
   "outputs": [
    {
     "name": "stdout",
     "output_type": "stream",
     "text": [
      "(60000, 24)\n"
     ]
    }
   ],
   "source": [
    "# Take a slice (60K observations) of the original data to train the model\n",
    "interim_data = make_dataset.slice_data(raw_data)"
   ]
  },
  {
   "cell_type": "code",
   "execution_count": 5,
   "metadata": {},
   "outputs": [
    {
     "name": "stdout",
     "output_type": "stream",
     "text": [
      "Training set has shape (38400, 24)\n",
      "Validation set has shape (9600, 24)\n",
      "Test set has shape (12000, 24)\n"
     ]
    }
   ],
   "source": [
    "# Split the Data into training, validation and test set\n",
    "train, val, test = make_dataset.split_train_val_test(interim_data)"
   ]
  },
  {
   "cell_type": "code",
   "execution_count": 6,
   "metadata": {},
   "outputs": [],
   "source": [
    "# build date related features on all the three datasets\n",
    "train_df = build_features.date_related_features(train)\n",
    "val_df = build_features.date_related_features(val)\n",
    "test_df = build_features.date_related_features(test)"
   ]
  },
  {
   "cell_type": "markdown",
   "metadata": {},
   "source": [
    "### Build 1st Set of Features"
   ]
  },
  {
   "cell_type": "code",
   "execution_count": 7,
   "metadata": {},
   "outputs": [],
   "source": [
    "# build features by aggregating values of different columns grouped by memberid\n",
    "mini_train_df = build_features.aggregate_features_by_memberid(train_df)\n",
    "mini_val_df = build_features.aggregate_features_by_memberid(val_df)\n",
    "mini_test_df = build_features.aggregate_features_by_memberid(test_df)"
   ]
  },
  {
   "cell_type": "code",
   "execution_count": 8,
   "metadata": {},
   "outputs": [],
   "source": [
    "# build features by taking cumulative values of different columns grouped by memberid\n",
    "mini_train_df_1 = build_features.cumulative_features_by_memberid(train_df, mini_train_df)\n",
    "mini_val_df_1 = build_features.cumulative_features_by_memberid(val_df, mini_val_df)\n",
    "mini_test_df_1 = build_features.cumulative_features_by_memberid(test_df, mini_test_df)"
   ]
  },
  {
   "cell_type": "code",
   "execution_count": 9,
   "metadata": {},
   "outputs": [],
   "source": [
    "# build features by taking time gap on corresponding date features\n",
    "mini_train_df_2 = build_features.time_gap_shift_1_features(train_df, mini_train_df_1)\n",
    "mini_val_df_2 = build_features.time_gap_shift_1_features(val_df, mini_val_df_1)\n",
    "mini_test_df_2 = build_features.time_gap_shift_1_features(test_df, mini_test_df_1)"
   ]
  },
  {
   "cell_type": "code",
   "execution_count": 10,
   "metadata": {},
   "outputs": [],
   "source": [
    "# build more features by taking time gap on corresponding date features\n",
    "mini_train_df_3 = build_features.time_gap_shift_2_features(train_df, mini_train_df_2)\n",
    "mini_val_df_3 = build_features.time_gap_shift_2_features(val_df, mini_val_df_2)\n",
    "mini_test_df_3 = build_features.time_gap_shift_2_features(test_df, mini_test_df_2)"
   ]
  },
  {
   "cell_type": "code",
   "execution_count": 11,
   "metadata": {},
   "outputs": [],
   "source": [
    "# build features by taking difference in values of columns for each visit\n",
    "mini_train_df_4 = build_features.inter_visit_features(train_df, mini_train_df_3)\n",
    "mini_val_df_4 = build_features.inter_visit_features(val_df, mini_val_df_3)\n",
    "mini_test_df_4 = build_features.inter_visit_features(test_df, mini_test_df_3)"
   ]
  },
  {
   "cell_type": "code",
   "execution_count": 12,
   "metadata": {},
   "outputs": [],
   "source": [
    "# # build features by pivoting data on memberid and some specific columns\n",
    "# mini_train_df_5 = build_features.pivot_features(train_df, mini_train_df_4)\n",
    "# mini_val_df_5 = build_features.pivot_features(val_df, mini_val_df_4)\n",
    "# mini_test_df_5 = build_features.pivot_features(test_df, mini_test_df_4)"
   ]
  },
  {
   "cell_type": "code",
   "execution_count": 12,
   "metadata": {},
   "outputs": [],
   "source": [
    "# Remove initial columns from mini_data\n",
    "columns_to_remove = ['memberid','resort_id','state_code_residence','checkin_date','booking_date']\n",
    "mini_train_df_5 = mini_train_df_4.drop(columns_to_remove, axis=1)\n",
    "mini_val_df_5 = mini_val_df_4.drop(columns_to_remove, axis=1)\n",
    "mini_test_df_5 = mini_test_df_4.drop(columns_to_remove, axis=1)"
   ]
  },
  {
   "cell_type": "code",
   "execution_count": 13,
   "metadata": {},
   "outputs": [
    {
     "name": "stdout",
     "output_type": "stream",
     "text": [
      "(38400, 40)\n",
      "(9600, 40)\n",
      "(12000, 40)\n"
     ]
    }
   ],
   "source": [
    "# Check shapes of each modified dataset\n",
    "print(mini_train_df_5.shape)\n",
    "print(mini_val_df_5.shape)\n",
    "print(mini_test_df_5.shape)"
   ]
  },
  {
   "cell_type": "code",
   "execution_count": 14,
   "metadata": {},
   "outputs": [],
   "source": [
    "# Save the 1st set of built features to project drive\n",
    "mini_train_df_5.to_csv(r'../data/processed/built_features/train_feat_set_1.csv', index=False)\n",
    "mini_val_df_5.to_csv(r'../data/processed/built_features/val_feat_set_1.csv', index=False)\n",
    "mini_test_df_5.to_csv(r'../data/processed/built_features/test_feat_set_1.csv', index=False)"
   ]
  },
  {
   "cell_type": "markdown",
   "metadata": {},
   "source": [
    "### Build More Features"
   ]
  },
  {
   "cell_type": "code",
   "execution_count": 15,
   "metadata": {},
   "outputs": [],
   "source": [
    "# build ratio_features on all three datasets\n",
    "train_df_1 = build_features.ratio_features(train_df)\n",
    "val_df_1 = build_features.ratio_features(val_df)\n",
    "test_df_1 = build_features.ratio_features(test_df)"
   ]
  },
  {
   "cell_type": "code",
   "execution_count": 16,
   "metadata": {},
   "outputs": [],
   "source": [
    "# build concatenated features on all three datasets\n",
    "train_df_2 = build_features.concatenated_features(train_df_1)\n",
    "val_df_2 = build_features.concatenated_features(val_df_1)\n",
    "test_df_2 = build_features.concatenated_features(test_df_1)"
   ]
  },
  {
   "cell_type": "code",
   "execution_count": 17,
   "metadata": {},
   "outputs": [],
   "source": [
    "# Merge the 1st set of features with the modified datasets \n",
    "train_df_3 = pd.merge(train_df_2, mini_train_df_5, on='reservation_id', how='left')\n",
    "val_df_3 = pd.merge(val_df_2, mini_val_df_5, on='reservation_id', how='left')\n",
    "test_df_3 = pd.merge(test_df_2, mini_test_df_5, on='reservation_id', how='left')"
   ]
  },
  {
   "cell_type": "code",
   "execution_count": 18,
   "metadata": {},
   "outputs": [],
   "source": [
    "# Save the 2nd set of built features to project drive\n",
    "train_df_3.to_csv(r'../data/processed/prepared_data/train_prepared.csv', index=False)\n",
    "val_df_3.to_csv(r'../data/processed/prepared_data/val_prepared.csv', index=False)\n",
    "test_df_3.to_csv(r'../data/processed/prepared_data/test_prepared.csv', index=False)"
   ]
  },
  {
   "cell_type": "code",
   "execution_count": null,
   "metadata": {},
   "outputs": [],
   "source": []
  }
 ],
 "metadata": {
  "kernelspec": {
   "display_name": "Python (cmdh)",
   "language": "python",
   "name": "club_mahindra_data_hack"
  },
  "language_info": {
   "codemirror_mode": {
    "name": "ipython",
    "version": 3
   },
   "file_extension": ".py",
   "mimetype": "text/x-python",
   "name": "python",
   "nbconvert_exporter": "python",
   "pygments_lexer": "ipython3",
   "version": "3.6.7"
  }
 },
 "nbformat": 4,
 "nbformat_minor": 2
}
