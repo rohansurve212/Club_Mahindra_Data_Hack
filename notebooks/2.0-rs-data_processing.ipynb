{
 "cells": [
  {
   "cell_type": "code",
   "execution_count": 1,
   "metadata": {},
   "outputs": [],
   "source": [
    "import sys\n",
    "sys.path.append('C:/Users/visha/Documents/GitHub/Club_Mahindra_Data_Hack/Club_Mahindra_Data_Hack')\n",
    "\n",
    "# Import standard libraries\n",
    "import numpy as np\n",
    "import pandas as pd\n",
    "import matplotlib.pyplot as plt\n",
    "import seaborn as sns\n",
    "%matplotlib inline\n",
    "color = sns.color_palette()\n",
    "\n",
    "# Import local libraries\n",
    "from src.data_preprocessing import preprocess_data\n",
    "\n",
    "pd.options.display.max_columns = 100\n",
    "import warnings\n",
    "warnings.filterwarnings(\"ignore\")"
   ]
  },
  {
   "cell_type": "markdown",
   "metadata": {},
   "source": [
    "### Load Data"
   ]
  },
  {
   "cell_type": "code",
   "execution_count": 2,
   "metadata": {},
   "outputs": [],
   "source": [
    "train_prepared = pd.read_csv(r'../data/processed/prepared_data/train_prepared.csv')\n",
    "val_prepared = pd.read_csv(r'../data/processed/prepared_data/val_prepared.csv')\n",
    "test_prepared = pd.read_csv(r'../data/processed/prepared_data/test_prepared.csv')"
   ]
  },
  {
   "cell_type": "markdown",
   "metadata": {},
   "source": [
    "### Pre-process Data"
   ]
  },
  {
   "cell_type": "code",
   "execution_count": 3,
   "metadata": {},
   "outputs": [
    {
     "name": "stdout",
     "output_type": "stream",
     "text": [
      "(38400, 116) (38400,)\n",
      "(9600, 116) (9600,)\n",
      "(12000, 116) (12000,)\n"
     ]
    }
   ],
   "source": [
    "# separate features from targets\n",
    "train_prepared_X, train_prepared_y = preprocess_data.separate_features_and_targets(train_prepared)\n",
    "val_prepared_X, val_prepared_y = preprocess_data.separate_features_and_targets(val_prepared)\n",
    "test_prepared_X, test_prepared_y = preprocess_data.separate_features_and_targets(test_prepared)"
   ]
  },
  {
   "cell_type": "code",
   "execution_count": 4,
   "metadata": {},
   "outputs": [],
   "source": [
    "# separate numerical features from categorical features\n",
    "train_num_feature_names, train_cat_feature_names = preprocess_data.separate_num_cat_features(train_prepared_X)\n",
    "val_num_feature_names, val_cat_feature_names = preprocess_data.separate_num_cat_features(val_prepared_X)\n",
    "test_num_feature_names, test_cat_feature_names = preprocess_data.separate_num_cat_features(test_prepared_X)"
   ]
  },
  {
   "cell_type": "code",
   "execution_count": 5,
   "metadata": {},
   "outputs": [],
   "source": [
    "# transform features to make it ready to be fed to machine learning models\n",
    "train_preprocessed = preprocess_data.transform_all_features(train_prepared_X, train_num_feature_names, train_cat_feature_names)\n",
    "val_preprocessed = preprocess_data.transform_all_features(val_prepared_X, val_num_feature_names, val_cat_feature_names)\n",
    "test_preprocessed = preprocess_data.transform_all_features(test_prepared_X, test_num_feature_names, test_cat_feature_names)"
   ]
  },
  {
   "cell_type": "code",
   "execution_count": 6,
   "metadata": {},
   "outputs": [],
   "source": [
    "# Convert the arrays into pandas DataFrame\n",
    "train_preprocessed = pd.DataFrame(train_preprocessed)\n",
    "val_preprocessed = pd.DataFrame(val_preprocessed)\n",
    "test_preprocessed = pd.DataFrame(test_preprocessed)"
   ]
  },
  {
   "cell_type": "code",
   "execution_count": 8,
   "metadata": {},
   "outputs": [],
   "source": [
    "# Save the preprocessed features to project drive\n",
    "train_preprocessed.to_csv(r'../data/processed/preprocessed_data/train_preprocessed.csv', index=False)\n",
    "val_preprocessed.to_csv(r'../data/processed/preprocessed_data/val_preprocessed.csv', index=False)\n",
    "test_preprocessed.to_csv(r'../data/processed/preprocessed_data/test_preprocessed.csv', index=False)"
   ]
  },
  {
   "cell_type": "code",
   "execution_count": 9,
   "metadata": {},
   "outputs": [],
   "source": [
    "# Save target values to project drive\n",
    "train_prepared_y.to_csv(r'../data/processed/target_values/train_target_values.csv', index=False)\n",
    "val_prepared_y.to_csv(r'../data/processed/target_values/val_target_values.csv', index=False)\n",
    "test_prepared_y.to_csv(r'../data/processed/target_values/test_target_values.csv', index=False)"
   ]
  },
  {
   "cell_type": "code",
   "execution_count": null,
   "metadata": {},
   "outputs": [],
   "source": []
  }
 ],
 "metadata": {
  "kernelspec": {
   "display_name": "Python (cmdh)",
   "language": "python",
   "name": "club_mahindra_data_hack"
  },
  "language_info": {
   "codemirror_mode": {
    "name": "ipython",
    "version": 3
   },
   "file_extension": ".py",
   "mimetype": "text/x-python",
   "name": "python",
   "nbconvert_exporter": "python",
   "pygments_lexer": "ipython3",
   "version": "3.6.7"
  }
 },
 "nbformat": 4,
 "nbformat_minor": 2
}
